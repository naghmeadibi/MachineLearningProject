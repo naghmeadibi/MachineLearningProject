{
  "nbformat": 4,
  "nbformat_minor": 0,
  "metadata": {
    "colab": {
      "provenance": [],
      "toc_visible": true
    },
    "kernelspec": {
      "name": "python3",
      "display_name": "Python 3"
    },
    "language_info": {
      "name": "python"
    }
  },
  "cells": [
    {
      "cell_type": "markdown",
      "source": [
        "#import"
      ],
      "metadata": {
        "id": "SKZ_yOeNxhX5"
      }
    },
    {
      "cell_type": "code",
      "execution_count": 2,
      "metadata": {
        "id": "ntAoDWoXxeXA"
      },
      "outputs": [],
      "source": [
        "import numpy as np\n",
        "import imageio.v3 as iio\n",
        "import glob\n",
        "import pandas as pd\n",
        "import matplotlib.pyplot as plt\n",
        "import scipy\n",
        "from scipy import *\n",
        "import tensorflow\n",
        "from tensorflow import *\n",
        "from sklearn.mixture import GaussianMixture\n",
        "#import GMM\n",
        "#from GMM import *\n"
      ]
    },
    {
      "cell_type": "markdown",
      "source": [
        "#Loading Dataset"
      ],
      "metadata": {
        "id": "zFjIuo67_E2J"
      }
    },
    {
      "cell_type": "code",
      "source": [
        "from tensorflow.keras.datasets import mnist\n",
        "(X_train, Y_train), (X_test, Y_test) = mnist.load_data()"
      ],
      "metadata": {
        "id": "Ms64jDUXn35V"
      },
      "execution_count": 3,
      "outputs": []
    },
    {
      "cell_type": "code",
      "source": [
        "print('MNIST Dataset Shape:')\n",
        "print('X_train: ' + str(X_train.shape))\n",
        "print('Y_train: ' + str(Y_train.shape))\n",
        "print('X_test:  '  + str(X_test.shape))\n",
        "print('Y_test:  '  + str(Y_test.shape))"
      ],
      "metadata": {
        "colab": {
          "base_uri": "https://localhost:8080/"
        },
        "id": "OxyIn65In6M1",
        "outputId": "6e8a306b-17a5-46c3-d96a-4f439736c244"
      },
      "execution_count": 4,
      "outputs": [
        {
          "output_type": "stream",
          "name": "stdout",
          "text": [
            "MNIST Dataset Shape:\n",
            "X_train: (60000, 28, 28)\n",
            "Y_train: (60000,)\n",
            "X_test:  (10000, 28, 28)\n",
            "Y_test:  (10000,)\n"
          ]
        }
      ]
    },
    {
      "cell_type": "code",
      "source": [
        "train_x = X_train[0:1000, :, :]\n",
        "train_y = Y_train[0:1000, ]"
      ],
      "metadata": {
        "id": "zTvCjbjzoO1T"
      },
      "execution_count": 5,
      "outputs": []
    },
    {
      "cell_type": "markdown",
      "source": [
        "#Patch Extraction"
      ],
      "metadata": {
        "id": "-w__3BXbxn1G"
      }
    },
    {
      "cell_type": "code",
      "source": [
        "def patch(img, m):\n",
        "  '''\n",
        "  this function is for patch extraction.\n",
        "  inputs:\n",
        "  img = the input matrix\n",
        "  m   = the size of each patch (m*m)\n",
        "  '''\n",
        "  Patch = []\n",
        "  h, w = img.shape\n",
        "  for i in range(h-m):\n",
        "    for j in range(w-m):\n",
        "      p = img[i:i+m, j:j+m]\n",
        "      Patch.append(p.reshape(-1).T)\n",
        "  #Patch = (np.array(Patch)).reshape(-1)\n",
        "  Patch = (np.array(Patch))\n",
        "  return Patch\n"
      ],
      "metadata": {
        "id": "bBMpnKaAxnhM"
      },
      "execution_count": 6,
      "outputs": []
    },
    {
      "cell_type": "code",
      "source": [
        "#data = train_x/255.0"
      ],
      "metadata": {
        "id": "TEWIy-7kpM3e"
      },
      "execution_count": 9,
      "outputs": []
    },
    {
      "cell_type": "code",
      "source": [
        "patches = []\n",
        "m = 8\n",
        "for i in range(1000):\n",
        "  patches.append(patch(train_x[i, :, :], m))\n",
        "\n",
        "patches = np.array(patches)"
      ],
      "metadata": {
        "id": "_JZjJM2R_BU0"
      },
      "execution_count": 7,
      "outputs": []
    },
    {
      "cell_type": "code",
      "source": [
        "#making patches a 2D matrix:\n",
        "I, J, K = patches.shape\n",
        "patches = patches.reshape(I*J, K)\n",
        "patches.shape"
      ],
      "metadata": {
        "colab": {
          "base_uri": "https://localhost:8080/"
        },
        "id": "7htE0v8Dhq72",
        "outputId": "8b1f95de-5b4a-44aa-f531-33c97925c287"
      },
      "execution_count": 8,
      "outputs": [
        {
          "output_type": "execute_result",
          "data": {
            "text/plain": [
              "(400000, 64)"
            ]
          },
          "metadata": {},
          "execution_count": 8
        }
      ]
    },
    {
      "cell_type": "markdown",
      "source": [
        "#GMM fitting"
      ],
      "metadata": {
        "id": "YkkiuOihiDq0"
      }
    },
    {
      "cell_type": "code",
      "source": [
        "#fitting GMM on paches using sklearn Gaussian mixture model:\n",
        "gm = GaussianMixture(n_components=64).fit(patches)"
      ],
      "metadata": {
        "id": "L0RZ5z3nHHQI"
      },
      "execution_count": 9,
      "outputs": []
    },
    {
      "cell_type": "code",
      "source": [
        "gm.means_"
      ],
      "metadata": {
        "colab": {
          "base_uri": "https://localhost:8080/"
        },
        "id": "Hk6Ecw97_R1X",
        "outputId": "7ef7c851-da98-482e-cdd0-1fc21f709523"
      },
      "execution_count": 10,
      "outputs": [
        {
          "output_type": "execute_result",
          "data": {
            "text/plain": [
              "array([[ 69.06343122,  75.35270327, 103.45746857, ...,   0.        ,\n",
              "          0.        ,   0.        ],\n",
              "       [  3.58227033,   0.        ,   0.        , ...,   0.        ,\n",
              "          0.        ,   6.93862605],\n",
              "       [  0.        ,   0.        ,   0.        , ...,  90.2935841 ,\n",
              "        105.65824292, 108.65490057],\n",
              "       ...,\n",
              "       [  0.        ,   0.        ,   0.        , ..., 166.9404652 ,\n",
              "        141.78879554, 122.4340077 ],\n",
              "       [ 81.56556752, 109.90766223, 154.2301498 , ...,   5.41257429,\n",
              "          0.        ,   0.        ],\n",
              "       [176.83375945, 113.77359647,  54.80243115, ..., 119.8246326 ,\n",
              "         93.03921138,  64.44392305]])"
            ]
          },
          "metadata": {},
          "execution_count": 10
        }
      ]
    },
    {
      "cell_type": "code",
      "source": [
        "gm.weights_"
      ],
      "metadata": {
        "colab": {
          "base_uri": "https://localhost:8080/"
        },
        "id": "YJ2ZsZK-_nUB",
        "outputId": "b8687f0d-7809-4873-fe92-e689fa007801"
      },
      "execution_count": 11,
      "outputs": [
        {
          "output_type": "execute_result",
          "data": {
            "text/plain": [
              "array([0.01083291, 0.14581357, 0.0219899 , 0.02266937, 0.01241038,\n",
              "       0.00755471, 0.00772571, 0.03146208, 0.00776339, 0.00635678,\n",
              "       0.00468045, 0.01705685, 0.0227462 , 0.00663247, 0.00999499,\n",
              "       0.03012236, 0.00967364, 0.01409728, 0.03559706, 0.00743276,\n",
              "       0.00684959, 0.00646755, 0.02160984, 0.00497549, 0.0024876 ,\n",
              "       0.01338252, 0.0096932 , 0.03478889, 0.05181185, 0.01778715,\n",
              "       0.00697667, 0.00186594, 0.00441411, 0.00761485, 0.01482319,\n",
              "       0.01653465, 0.00919251, 0.01605869, 0.0110764 , 0.00842921,\n",
              "       0.00926169, 0.00559878, 0.01165448, 0.00539553, 0.01787668,\n",
              "       0.0032485 , 0.0140338 , 0.00517073, 0.00570113, 0.00293137,\n",
              "       0.01256406, 0.00704003, 0.01365142, 0.06893233, 0.01098886,\n",
              "       0.00398029, 0.0076352 , 0.00791831, 0.02025897, 0.01008367,\n",
              "       0.0056446 , 0.0218221 , 0.02553486, 0.00361984])"
            ]
          },
          "metadata": {},
          "execution_count": 11
        }
      ]
    }
  ]
}